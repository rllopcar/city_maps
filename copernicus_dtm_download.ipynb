{
 "cells": [
  {
   "cell_type": "code",
   "execution_count": 1,
   "id": "helpful-energy",
   "metadata": {},
   "outputs": [],
   "source": [
    "import os\n",
    "import glob\n",
    "import wget\n",
    "import numpy as np\n",
    "import pandas as pd\n",
    "from PIL import Image\n",
    "from pyproj import CRS\n",
    "import rasterio as rio\n",
    "import geopandas as gpd"
   ]
  },
  {
   "cell_type": "markdown",
   "id": "hidden-evanescence",
   "metadata": {},
   "source": [
    "# Inputs Paths\n",
    "1. AOI polygon.\n",
    "\n",
    "2. EPSG UTM code."
   ]
  },
  {
   "cell_type": "code",
   "execution_count": 2,
   "id": "actual-trinidad",
   "metadata": {},
   "outputs": [],
   "source": [
    "original_geo_espg_code = 4326"
   ]
  },
  {
   "cell_type": "code",
   "execution_count": 3,
   "id": "sensitive-academy",
   "metadata": {},
   "outputs": [],
   "source": [
    "project_name = \"gran_canyon\""
   ]
  },
  {
   "cell_type": "code",
   "execution_count": 4,
   "id": "divided-banner",
   "metadata": {},
   "outputs": [],
   "source": [
    "aoi_polygon_fp = f\"/home/rllop/PERSONAL/{project_name}_project/{project_name}_aoi.gpkg\"\n",
    "copernicus_30_coverage_grid_fp = \"/home/rllop/PERSONAL/copernicus_dem_coverage/copernicus_30_grid_coverage_test.gpkg\""
   ]
  },
  {
   "cell_type": "code",
   "execution_count": 5,
   "id": "hourly-marathon",
   "metadata": {},
   "outputs": [],
   "source": [
    "aoi_polygon = gpd.read_file(aoi_polygon_fp)\n",
    "# utm_epsg_code = 3829 # Taiwan\n",
    "# utm_epsg_code = 3042 Huesca\n",
    "# utm_epsg_code = 6207 # Nepal\n",
    "# utm_epsg_code = 6634 # Hawai\n",
    "utm_epsg_code = 3742 # Gran Cnayon"
   ]
  },
  {
   "cell_type": "code",
   "execution_count": 6,
   "id": "cheap-cycle",
   "metadata": {},
   "outputs": [
    {
     "data": {
      "text/plain": [
       "'/home/rllop/PERSONAL/gran_canyon_project/gran_canyon_aoi.gpkg'"
      ]
     },
     "execution_count": 6,
     "metadata": {},
     "output_type": "execute_result"
    }
   ],
   "source": [
    "aoi_polygon_fp"
   ]
  },
  {
   "cell_type": "markdown",
   "id": "blessed-handle",
   "metadata": {},
   "source": [
    "# Intermediate Output Data Paths"
   ]
  },
  {
   "cell_type": "code",
   "execution_count": 7,
   "id": "otherwise-techno",
   "metadata": {},
   "outputs": [],
   "source": [
    "dem_directory_fp = f\"/home/rllop/PERSONAL/copernicus_dem_coverage/{project_name}/*\"\n",
    "dem_download_directory_fp = f\"/home/rllop/PERSONAL/copernicus_dem_coverage/{project_name}/\"\n",
    "output_merge_fp = f\"/home/rllop/PERSONAL/{project_name}_project/{project_name}_Copernicus_DSM_10_MERGE.tif\"\n",
    "output_clip_fp = f\"/home/rllop/PERSONAL/{project_name}_project/{project_name}_Copernicus_DSM_10_MERGE_CLIP.tif\"\n",
    "output_merge_clip_utm_fp = f\"/home/rllop/PERSONAL/{project_name}_project/{project_name}_Copernicus_DSM_10_MERGE_CLIP_UTM_{utm_epsg_code}.tif\""
   ]
  },
  {
   "cell_type": "markdown",
   "id": "turned-worth",
   "metadata": {},
   "source": [
    "# Ouput Paths"
   ]
  },
  {
   "cell_type": "code",
   "execution_count": 8,
   "id": "regional-clear",
   "metadata": {},
   "outputs": [],
   "source": [
    "final_output_raster_fp = f\"/home/rllop/PERSONAL/{project_name}_project/{project_name}_Copernicus_DSM_10_MERGE_CLIP_UTM_{utm_epsg_code}_RESCALE.tif\"\n",
    "inside_aoi_png_output_fp = f\"/home/rllop/PERSONAL/{project_name}_project/{project_name}_inside_mask.png\"\n",
    "outside_aoi_png_output_fp = f\"/home/rllop/PERSONAL/{project_name}_project/{project_name}_outside_mask.png\"\n",
    "# polygon_raster_fp = \"./huesca_project/river_huesca_clipped_raster.tif\""
   ]
  },
  {
   "cell_type": "markdown",
   "id": "brilliant-square",
   "metadata": {},
   "source": [
    "# Create list of Copernicus DEM urls"
   ]
  },
  {
   "cell_type": "code",
   "execution_count": 9,
   "id": "charming-wyoming",
   "metadata": {},
   "outputs": [],
   "source": [
    "copernicus_30_coverage_grid = gpd.read_file(copernicus_30_coverage_grid_fp)"
   ]
  },
  {
   "cell_type": "code",
   "execution_count": 10,
   "id": "parental-concentration",
   "metadata": {},
   "outputs": [],
   "source": [
    "aoi_polygon = gpd.read_file(aoi_polygon_fp)"
   ]
  },
  {
   "cell_type": "code",
   "execution_count": 11,
   "id": "norwegian-olive",
   "metadata": {},
   "outputs": [],
   "source": [
    "aoi_polygon_box = gpd.GeoDataFrame(columns=['geometry'])\n",
    "aoi_polygon_box = aoi_polygon_box.set_geometry('geometry')\n",
    "aoi_polygon_box = aoi_polygon_box.set_crs(4326)\n",
    "aoi_polygon_box['geometry'] = gpd.GeoDataFrame(aoi_polygon.envelope)"
   ]
  },
  {
   "cell_type": "code",
   "execution_count": 12,
   "id": "compliant-insured",
   "metadata": {},
   "outputs": [
    {
     "data": {
      "image/svg+xml": [
       "<svg xmlns=\"http://www.w3.org/2000/svg\" xmlns:xlink=\"http://www.w3.org/1999/xlink\" width=\"100.0\" height=\"100.0\" viewBox=\"-114.38366532985648 35.271093818380905 3.416718240368837 1.8721632423434187\" preserveAspectRatio=\"xMinYMin meet\"><g transform=\"matrix(1,0,0,-1,0,72.41435087910523)\"><path fill-rule=\"evenodd\" fill=\"#66cc99\" stroke=\"#555555\" stroke-width=\"0.06833436480737674\" opacity=\"0.6\" d=\"M -114.25712020984282,35.397638938394564 L -111.0934922095013,35.397638938394564 L -111.0934922095013,37.016711940710664 L -114.25712020984282,37.016711940710664 L -114.25712020984282,35.397638938394564 z\" /></g></svg>"
      ],
      "text/plain": [
       "<shapely.geometry.polygon.Polygon at 0x7f803dcb8d90>"
      ]
     },
     "execution_count": 12,
     "metadata": {},
     "output_type": "execute_result"
    }
   ],
   "source": [
    "aoi_polygon_box.geometry[0]"
   ]
  },
  {
   "cell_type": "code",
   "execution_count": 13,
   "id": "progressive-services",
   "metadata": {},
   "outputs": [],
   "source": [
    "copernicus_grids_intersection = copernicus_30_coverage_grid.sjoin(aoi_polygon_box)"
   ]
  },
  {
   "cell_type": "code",
   "execution_count": 14,
   "id": "powerful-naples",
   "metadata": {},
   "outputs": [
    {
     "data": {
      "text/plain": [
       "GeoCellID        object\n",
       "04_DGED_19       object\n",
       "03_INSP_19       object\n",
       "10_DGED_19       object\n",
       "10_DTED_19       object\n",
       "30_DGED_19       object\n",
       "30_DTED_19       object\n",
       "Product04        object\n",
       "Product03        object\n",
       "Product10        object\n",
       "Product30        object\n",
       "04_DGED_20       object\n",
       "03_INSP_20       object\n",
       "10_DGED_20       object\n",
       "10_DTED_20       object\n",
       "30_DGED_20       object\n",
       "30_DTED_20       object\n",
       "04_DGED_21       object\n",
       "03_INSP_21       object\n",
       "10_DGED_21       object\n",
       "10_DTED_21       object\n",
       "30_DGED_21       object\n",
       "30_DTED_21       object\n",
       "UpRational       object\n",
       "geometry       geometry\n",
       "index_right       int64\n",
       "dtype: object"
      ]
     },
     "execution_count": 14,
     "metadata": {},
     "output_type": "execute_result"
    }
   ],
   "source": [
    "copernicus_grids_intersection.dtypes"
   ]
  },
  {
   "cell_type": "code",
   "execution_count": 15,
   "id": "lined-geneva",
   "metadata": {},
   "outputs": [
    {
     "data": {
      "text/html": [
       "<div>\n",
       "<style scoped>\n",
       "    .dataframe tbody tr th:only-of-type {\n",
       "        vertical-align: middle;\n",
       "    }\n",
       "\n",
       "    .dataframe tbody tr th {\n",
       "        vertical-align: top;\n",
       "    }\n",
       "\n",
       "    .dataframe thead th {\n",
       "        text-align: right;\n",
       "    }\n",
       "</style>\n",
       "<table border=\"1\" class=\"dataframe\">\n",
       "  <thead>\n",
       "    <tr style=\"text-align: right;\">\n",
       "      <th></th>\n",
       "      <th>Product04</th>\n",
       "      <th>Product03</th>\n",
       "      <th>Product10</th>\n",
       "      <th>Product30</th>\n",
       "    </tr>\n",
       "  </thead>\n",
       "  <tbody>\n",
       "    <tr>\n",
       "      <th>5039</th>\n",
       "      <td>None</td>\n",
       "      <td>None</td>\n",
       "      <td>Copernicus_DSM_10_N35_00_W112_00</td>\n",
       "      <td>Copernicus_DSM_30_N35_00_W112_00</td>\n",
       "    </tr>\n",
       "    <tr>\n",
       "      <th>5040</th>\n",
       "      <td>None</td>\n",
       "      <td>None</td>\n",
       "      <td>Copernicus_DSM_10_N35_00_W113_00</td>\n",
       "      <td>Copernicus_DSM_30_N35_00_W113_00</td>\n",
       "    </tr>\n",
       "    <tr>\n",
       "      <th>5041</th>\n",
       "      <td>None</td>\n",
       "      <td>None</td>\n",
       "      <td>Copernicus_DSM_10_N35_00_W114_00</td>\n",
       "      <td>Copernicus_DSM_30_N35_00_W114_00</td>\n",
       "    </tr>\n",
       "    <tr>\n",
       "      <th>5042</th>\n",
       "      <td>None</td>\n",
       "      <td>None</td>\n",
       "      <td>Copernicus_DSM_10_N35_00_W115_00</td>\n",
       "      <td>Copernicus_DSM_30_N35_00_W115_00</td>\n",
       "    </tr>\n",
       "    <tr>\n",
       "      <th>5225</th>\n",
       "      <td>None</td>\n",
       "      <td>None</td>\n",
       "      <td>Copernicus_DSM_10_N36_00_W112_00</td>\n",
       "      <td>Copernicus_DSM_30_N36_00_W112_00</td>\n",
       "    </tr>\n",
       "  </tbody>\n",
       "</table>\n",
       "</div>"
      ],
      "text/plain": [
       "     Product04 Product03                         Product10  \\\n",
       "5039      None      None  Copernicus_DSM_10_N35_00_W112_00   \n",
       "5040      None      None  Copernicus_DSM_10_N35_00_W113_00   \n",
       "5041      None      None  Copernicus_DSM_10_N35_00_W114_00   \n",
       "5042      None      None  Copernicus_DSM_10_N35_00_W115_00   \n",
       "5225      None      None  Copernicus_DSM_10_N36_00_W112_00   \n",
       "\n",
       "                             Product30  \n",
       "5039  Copernicus_DSM_30_N35_00_W112_00  \n",
       "5040  Copernicus_DSM_30_N35_00_W113_00  \n",
       "5041  Copernicus_DSM_30_N35_00_W114_00  \n",
       "5042  Copernicus_DSM_30_N35_00_W115_00  \n",
       "5225  Copernicus_DSM_30_N36_00_W112_00  "
      ]
     },
     "execution_count": 15,
     "metadata": {},
     "output_type": "execute_result"
    }
   ],
   "source": [
    "copernicus_grids_intersection[['Product04', 'Product03', 'Product10', 'Product30']].head()"
   ]
  },
  {
   "cell_type": "code",
   "execution_count": 16,
   "id": "dominant-hawaiian",
   "metadata": {},
   "outputs": [
    {
     "data": {
      "text/plain": [
       "'Copernicus_DSM_10_N35_00_W112_00'"
      ]
     },
     "execution_count": 16,
     "metadata": {},
     "output_type": "execute_result"
    }
   ],
   "source": [
    "copernicus_grids_intersection['Product10'].values[0]"
   ]
  },
  {
   "cell_type": "code",
   "execution_count": 17,
   "id": "peaceful-infrastructure",
   "metadata": {},
   "outputs": [
    {
     "data": {
      "text/plain": [
       "5039    Copernicus_DSM_10_N35_00_W112_00\n",
       "5040    Copernicus_DSM_10_N35_00_W113_00\n",
       "5041    Copernicus_DSM_10_N35_00_W114_00\n",
       "5042    Copernicus_DSM_10_N35_00_W115_00\n",
       "5225    Copernicus_DSM_10_N36_00_W112_00\n",
       "Name: Product10, dtype: object"
      ]
     },
     "execution_count": 17,
     "metadata": {},
     "output_type": "execute_result"
    }
   ],
   "source": [
    "copernicus_grids_intersection['Product10'].head()"
   ]
  },
  {
   "cell_type": "code",
   "execution_count": 18,
   "id": "toxic-outdoors",
   "metadata": {},
   "outputs": [
    {
     "name": "stdout",
     "output_type": "stream",
     "text": [
      "https://copernicus-dem-30m.s3.eu-central-1.amazonaws.com/Copernicus_DSM_COG_10_N35_00_W112_00_DEM/Copernicus_DSM_COG_10_N35_00_W112_00_DEM.tif\n",
      "/home/rllop/PERSONAL/copernicus_dem_coverage/gran_canyon/Copernicus_DSM_COG_10_N35_00_W112_00_DEM.tif\n",
      "https://copernicus-dem-30m.s3.eu-central-1.amazonaws.com/Copernicus_DSM_COG_10_N35_00_W113_00_DEM/Copernicus_DSM_COG_10_N35_00_W113_00_DEM.tif\n",
      "/home/rllop/PERSONAL/copernicus_dem_coverage/gran_canyon/Copernicus_DSM_COG_10_N35_00_W113_00_DEM.tif\n",
      "https://copernicus-dem-30m.s3.eu-central-1.amazonaws.com/Copernicus_DSM_COG_10_N35_00_W114_00_DEM/Copernicus_DSM_COG_10_N35_00_W114_00_DEM.tif\n",
      "/home/rllop/PERSONAL/copernicus_dem_coverage/gran_canyon/Copernicus_DSM_COG_10_N35_00_W114_00_DEM.tif\n",
      "https://copernicus-dem-30m.s3.eu-central-1.amazonaws.com/Copernicus_DSM_COG_10_N35_00_W115_00_DEM/Copernicus_DSM_COG_10_N35_00_W115_00_DEM.tif\n",
      "/home/rllop/PERSONAL/copernicus_dem_coverage/gran_canyon/Copernicus_DSM_COG_10_N35_00_W115_00_DEM.tif\n",
      "https://copernicus-dem-30m.s3.eu-central-1.amazonaws.com/Copernicus_DSM_COG_10_N36_00_W112_00_DEM/Copernicus_DSM_COG_10_N36_00_W112_00_DEM.tif\n",
      "/home/rllop/PERSONAL/copernicus_dem_coverage/gran_canyon/Copernicus_DSM_COG_10_N36_00_W112_00_DEM.tif\n",
      "https://copernicus-dem-30m.s3.eu-central-1.amazonaws.com/Copernicus_DSM_COG_10_N36_00_W113_00_DEM/Copernicus_DSM_COG_10_N36_00_W113_00_DEM.tif\n",
      "/home/rllop/PERSONAL/copernicus_dem_coverage/gran_canyon/Copernicus_DSM_COG_10_N36_00_W113_00_DEM.tif\n",
      "https://copernicus-dem-30m.s3.eu-central-1.amazonaws.com/Copernicus_DSM_COG_10_N36_00_W114_00_DEM/Copernicus_DSM_COG_10_N36_00_W114_00_DEM.tif\n",
      "/home/rllop/PERSONAL/copernicus_dem_coverage/gran_canyon/Copernicus_DSM_COG_10_N36_00_W114_00_DEM.tif\n",
      "https://copernicus-dem-30m.s3.eu-central-1.amazonaws.com/Copernicus_DSM_COG_10_N36_00_W115_00_DEM/Copernicus_DSM_COG_10_N36_00_W115_00_DEM.tif\n",
      "/home/rllop/PERSONAL/copernicus_dem_coverage/gran_canyon/Copernicus_DSM_COG_10_N36_00_W115_00_DEM.tif\n",
      "https://copernicus-dem-30m.s3.eu-central-1.amazonaws.com/Copernicus_DSM_COG_10_N37_00_W112_00_DEM/Copernicus_DSM_COG_10_N37_00_W112_00_DEM.tif\n",
      "/home/rllop/PERSONAL/copernicus_dem_coverage/gran_canyon/Copernicus_DSM_COG_10_N37_00_W112_00_DEM.tif\n",
      "https://copernicus-dem-30m.s3.eu-central-1.amazonaws.com/Copernicus_DSM_COG_10_N37_00_W113_00_DEM/Copernicus_DSM_COG_10_N37_00_W113_00_DEM.tif\n",
      "/home/rllop/PERSONAL/copernicus_dem_coverage/gran_canyon/Copernicus_DSM_COG_10_N37_00_W113_00_DEM.tif\n",
      "https://copernicus-dem-30m.s3.eu-central-1.amazonaws.com/Copernicus_DSM_COG_10_N37_00_W114_00_DEM/Copernicus_DSM_COG_10_N37_00_W114_00_DEM.tif\n",
      "/home/rllop/PERSONAL/copernicus_dem_coverage/gran_canyon/Copernicus_DSM_COG_10_N37_00_W114_00_DEM.tif\n",
      "https://copernicus-dem-30m.s3.eu-central-1.amazonaws.com/Copernicus_DSM_COG_10_N37_00_W115_00_DEM/Copernicus_DSM_COG_10_N37_00_W115_00_DEM.tif\n",
      "/home/rllop/PERSONAL/copernicus_dem_coverage/gran_canyon/Copernicus_DSM_COG_10_N37_00_W115_00_DEM.tif\n"
     ]
    }
   ],
   "source": [
    "dem_url_list = []\n",
    "for grid_value in copernicus_grids_intersection['Product10'].values:\n",
    "    value = '_'.join(grid_value.split('_')[3:])\n",
    "    # print(value)\n",
    "    dem_url = f\"https://copernicus-dem-30m.s3.eu-central-1.amazonaws.com/Copernicus_DSM_COG_10_{value}_DEM/Copernicus_DSM_COG_10_{value}_DEM.tif\"\n",
    "    dem_url_list.append(dem_url)\n",
    "    # Download each DEM into copernicus region folder\n",
    "    print(dem_url)\n",
    "    dem_fp = dem_download_directory_fp + dem_url.split(\"/\")[-1]\n",
    "    print(dem_fp)\n",
    "    wget.download(dem_url, dem_fp)"
   ]
  },
  {
   "cell_type": "code",
   "execution_count": null,
   "id": "living-owner",
   "metadata": {},
   "outputs": [],
   "source": []
  },
  {
   "cell_type": "markdown",
   "id": "anticipated-taxation",
   "metadata": {},
   "source": [
    "# Merge all DEM products into one raster"
   ]
  },
  {
   "cell_type": "code",
   "execution_count": 9,
   "id": "changed-season",
   "metadata": {},
   "outputs": [],
   "source": [
    "merge_cmd = f\"gdal_merge.py -init 0 -a_nodata 0 -o {output_merge_fp}\""
   ]
  },
  {
   "cell_type": "code",
   "execution_count": 10,
   "id": "trained-dayton",
   "metadata": {},
   "outputs": [],
   "source": [
    "dem_url_list = list(glob.iglob(dem_directory_fp, recursive=True))"
   ]
  },
  {
   "cell_type": "code",
   "execution_count": 11,
   "id": "removed-length",
   "metadata": {},
   "outputs": [],
   "source": [
    "# Create merge command\n",
    "for url in dem_url_list:\n",
    " merge_cmd = merge_cmd + \" \" + url"
   ]
  },
  {
   "cell_type": "code",
   "execution_count": 12,
   "id": "charitable-character",
   "metadata": {},
   "outputs": [
    {
     "data": {
      "text/plain": [
       "'gdal_merge.py -init 0 -a_nodata 0 -o /home/rllop/PERSONAL/gran_canyon_project/gran_canyon_Copernicus_DSM_10_MERGE.tif /home/rllop/PERSONAL/copernicus_dem_coverage/gran_canyon/Copernicus_DSM_COG_10_N37_00_W115_00_DEM.tif /home/rllop/PERSONAL/copernicus_dem_coverage/gran_canyon/Copernicus_DSM_COG_10_N35_00_W112_00_DEM.tif /home/rllop/PERSONAL/copernicus_dem_coverage/gran_canyon/Copernicus_DSM_COG_10_N35_00_W115_00_DEM.tif /home/rllop/PERSONAL/copernicus_dem_coverage/gran_canyon/Copernicus_DSM_COG_10_N36_00_W112_00_DEM.tif /home/rllop/PERSONAL/copernicus_dem_coverage/gran_canyon/Copernicus_DSM_COG_10_N37_00_W112_00_DEM.tif /home/rllop/PERSONAL/copernicus_dem_coverage/gran_canyon/Copernicus_DSM_COG_10_N36_00_W115_00_DEM.tif /home/rllop/PERSONAL/copernicus_dem_coverage/gran_canyon/Copernicus_DSM_COG_10_N35_00_W114_00_DEM.tif /home/rllop/PERSONAL/copernicus_dem_coverage/gran_canyon/Copernicus_DSM_COG_10_N35_00_W113_00_DEM.tif /home/rllop/PERSONAL/copernicus_dem_coverage/gran_canyon/Copernicus_DSM_COG_10_N36_00_W114_00_DEM.tif /home/rllop/PERSONAL/copernicus_dem_coverage/gran_canyon/Copernicus_DSM_COG_10_N37_00_W113_00_DEM.tif /home/rllop/PERSONAL/copernicus_dem_coverage/gran_canyon/Copernicus_DSM_COG_10_N36_00_W113_00_DEM.tif /home/rllop/PERSONAL/copernicus_dem_coverage/gran_canyon/Copernicus_DSM_COG_10_N37_00_W114_00_DEM.tif'"
      ]
     },
     "execution_count": 12,
     "metadata": {},
     "output_type": "execute_result"
    }
   ],
   "source": [
    "merge_cmd"
   ]
  },
  {
   "cell_type": "code",
   "execution_count": 13,
   "id": "brilliant-course",
   "metadata": {},
   "outputs": [
    {
     "data": {
      "text/plain": [
       "0"
      ]
     },
     "execution_count": 13,
     "metadata": {},
     "output_type": "execute_result"
    }
   ],
   "source": [
    "os.system(merge_cmd)"
   ]
  },
  {
   "cell_type": "markdown",
   "id": "sticky-carrier",
   "metadata": {},
   "source": [
    "# Clip DEM to polygon\n",
    "\n",
    "## STEP 1:\n",
    "- Clip raster to Polygon Envelope Bounding box\n",
    "## STEP 2:\n",
    "- Rasterize polygon and burn value of 1 in inside, else 0 or np.nan. Depends on how Blender GIS deals with missing data.\n",
    "## STEP 3: \n",
    "- Multiply clipped DEM with rasterize polygon.\n",
    "\n"
   ]
  },
  {
   "cell_type": "code",
   "execution_count": 14,
   "id": "juvenile-failing",
   "metadata": {},
   "outputs": [
    {
     "data": {
      "text/html": [
       "<div>\n",
       "<style scoped>\n",
       "    .dataframe tbody tr th:only-of-type {\n",
       "        vertical-align: middle;\n",
       "    }\n",
       "\n",
       "    .dataframe tbody tr th {\n",
       "        vertical-align: top;\n",
       "    }\n",
       "\n",
       "    .dataframe thead th {\n",
       "        text-align: right;\n",
       "    }\n",
       "</style>\n",
       "<table border=\"1\" class=\"dataframe\">\n",
       "  <thead>\n",
       "    <tr style=\"text-align: right;\">\n",
       "      <th></th>\n",
       "      <th>minx</th>\n",
       "      <th>miny</th>\n",
       "      <th>maxx</th>\n",
       "      <th>maxy</th>\n",
       "    </tr>\n",
       "  </thead>\n",
       "  <tbody>\n",
       "    <tr>\n",
       "      <th>0</th>\n",
       "      <td>-113.979289</td>\n",
       "      <td>35.745728</td>\n",
       "      <td>-111.632446</td>\n",
       "      <td>36.818522</td>\n",
       "    </tr>\n",
       "  </tbody>\n",
       "</table>\n",
       "</div>"
      ],
      "text/plain": [
       "         minx       miny        maxx       maxy\n",
       "0 -113.979289  35.745728 -111.632446  36.818522"
      ]
     },
     "execution_count": 14,
     "metadata": {},
     "output_type": "execute_result"
    }
   ],
   "source": [
    "aoi_polygon.bounds"
   ]
  },
  {
   "cell_type": "code",
   "execution_count": 15,
   "id": "cooked-tanzania",
   "metadata": {},
   "outputs": [],
   "source": [
    "xmin = aoi_polygon.bounds['minx'][0]\n",
    "ymin = aoi_polygon.bounds['miny'][0]\n",
    "xmax = aoi_polygon.bounds['maxx'][0]\n",
    "ymax = aoi_polygon.bounds['maxy'][0]"
   ]
  },
  {
   "cell_type": "code",
   "execution_count": 16,
   "id": "suspected-textbook",
   "metadata": {},
   "outputs": [],
   "source": [
    "#-te <xmin ymin xmax ymax>"
   ]
  },
  {
   "cell_type": "code",
   "execution_count": 17,
   "id": "floating-equality",
   "metadata": {},
   "outputs": [],
   "source": [
    "cmd = f\"gdalwarp -of GTiff -te {xmin} {ymin} {xmax} {ymax} -cutline {aoi_polygon_fp}  -crop_to_cutline {output_merge_fp}  {output_clip_fp}\""
   ]
  },
  {
   "cell_type": "code",
   "execution_count": 18,
   "id": "circular-modeling",
   "metadata": {},
   "outputs": [
    {
     "data": {
      "text/plain": [
       "'gdalwarp -of GTiff -te -113.97928873697917 35.7457275390625 -111.6324462890625 36.81852213541667 -cutline /home/rllop/PERSONAL/gran_canyon_project/gran_canyon_aoi.gpkg  -crop_to_cutline /home/rllop/PERSONAL/gran_canyon_project/gran_canyon_Copernicus_DSM_10_MERGE.tif  /home/rllop/PERSONAL/gran_canyon_project/gran_canyon_Copernicus_DSM_10_MERGE_CLIP.tif'"
      ]
     },
     "execution_count": 18,
     "metadata": {},
     "output_type": "execute_result"
    }
   ],
   "source": [
    "cmd"
   ]
  },
  {
   "cell_type": "code",
   "execution_count": 19,
   "id": "musical-dylan",
   "metadata": {},
   "outputs": [
    {
     "data": {
      "text/plain": [
       "0"
      ]
     },
     "execution_count": 19,
     "metadata": {},
     "output_type": "execute_result"
    }
   ],
   "source": [
    "os.system(cmd)"
   ]
  },
  {
   "cell_type": "markdown",
   "id": "imported-climate",
   "metadata": {},
   "source": [
    "# Reproject raster to UTM coordinates"
   ]
  },
  {
   "cell_type": "code",
   "execution_count": 20,
   "id": "secret-joseph",
   "metadata": {},
   "outputs": [],
   "source": [
    "src_raster = rio.open(output_clip_fp)"
   ]
  },
  {
   "cell_type": "code",
   "execution_count": 21,
   "id": "placed-alert",
   "metadata": {},
   "outputs": [
    {
     "data": {
      "text/plain": [
       "8447"
      ]
     },
     "execution_count": 21,
     "metadata": {},
     "output_type": "execute_result"
    }
   ],
   "source": [
    "src_raster.width"
   ]
  },
  {
   "cell_type": "code",
   "execution_count": 22,
   "id": "occupational-rainbow",
   "metadata": {},
   "outputs": [
    {
     "data": {
      "text/plain": [
       "3861"
      ]
     },
     "execution_count": 22,
     "metadata": {},
     "output_type": "execute_result"
    }
   ],
   "source": [
    "src_raster.height"
   ]
  },
  {
   "cell_type": "code",
   "execution_count": 23,
   "id": "facial-omega",
   "metadata": {},
   "outputs": [],
   "source": [
    "cmd = f\"gdalwarp -overwrite {output_clip_fp} {output_merge_clip_utm_fp} -s_srs EPSG:{original_geo_espg_code} -t_srs EPSG:{utm_epsg_code} -r cubicspline -ot UInt16 -dstnodata np.nan\""
   ]
  },
  {
   "cell_type": "code",
   "execution_count": 24,
   "id": "foster-legislature",
   "metadata": {},
   "outputs": [
    {
     "data": {
      "text/plain": [
       "0"
      ]
     },
     "execution_count": 24,
     "metadata": {},
     "output_type": "execute_result"
    }
   ],
   "source": [
    "os.system(cmd)"
   ]
  },
  {
   "cell_type": "markdown",
   "id": "behind-geology",
   "metadata": {},
   "source": [
    "# Rescale raster to 16 bit values \n",
    "\n",
    "rescale formula = (Pixel Value – Lowest Value) ÷ (Highest Value – Lowest Value) * 65,535"
   ]
  },
  {
   "cell_type": "code",
   "execution_count": 25,
   "id": "incorporate-twelve",
   "metadata": {},
   "outputs": [],
   "source": [
    "raster_src = rio.open(output_merge_clip_utm_fp)\n",
    "raster_arr = raster_src.read(1)"
   ]
  },
  {
   "cell_type": "code",
   "execution_count": 26,
   "id": "false-discussion",
   "metadata": {},
   "outputs": [
    {
     "data": {
      "text/plain": [
       "array([   0,  350,  351, ..., 2796, 2797, 2798], dtype=uint16)"
      ]
     },
     "execution_count": 26,
     "metadata": {},
     "output_type": "execute_result"
    }
   ],
   "source": [
    "np.unique(raster_arr)"
   ]
  },
  {
   "cell_type": "code",
   "execution_count": 27,
   "id": "seven-drama",
   "metadata": {},
   "outputs": [],
   "source": [
    "# Island Elevation Factoring \n",
    "# raster_arr = np.where(raster_arr>0, raster_arr+100, raster_arr)"
   ]
  },
  {
   "cell_type": "code",
   "execution_count": 28,
   "id": "grateful-record",
   "metadata": {},
   "outputs": [
    {
     "data": {
      "text/plain": [
       "array([   0,  350,  351, ..., 2796, 2797, 2798], dtype=uint16)"
      ]
     },
     "execution_count": 28,
     "metadata": {},
     "output_type": "execute_result"
    }
   ],
   "source": [
    "np.unique(raster_arr)"
   ]
  },
  {
   "cell_type": "code",
   "execution_count": 29,
   "id": "julian-definition",
   "metadata": {},
   "outputs": [
    {
     "data": {
      "text/plain": [
       "dtype('uint16')"
      ]
     },
     "execution_count": 29,
     "metadata": {},
     "output_type": "execute_result"
    }
   ],
   "source": [
    "raster_arr.dtype"
   ]
  },
  {
   "cell_type": "code",
   "execution_count": 30,
   "id": "rough-vitamin",
   "metadata": {},
   "outputs": [
    {
     "data": {
      "text/plain": [
       "array([[0, 0, 0, ..., 0, 0, 0],\n",
       "       [0, 0, 0, ..., 0, 0, 0],\n",
       "       [0, 0, 0, ..., 0, 0, 0],\n",
       "       ...,\n",
       "       [0, 0, 0, ..., 0, 0, 0],\n",
       "       [0, 0, 0, ..., 0, 0, 0],\n",
       "       [0, 0, 0, ..., 0, 0, 0]], dtype=uint16)"
      ]
     },
     "execution_count": 30,
     "metadata": {},
     "output_type": "execute_result"
    }
   ],
   "source": [
    "raster_arr"
   ]
  },
  {
   "cell_type": "code",
   "execution_count": 31,
   "id": "changing-ottawa",
   "metadata": {},
   "outputs": [
    {
     "data": {
      "text/plain": [
       "CRS.from_epsg(3742)"
      ]
     },
     "execution_count": 31,
     "metadata": {},
     "output_type": "execute_result"
    }
   ],
   "source": [
    "raster_src.crs"
   ]
  },
  {
   "cell_type": "code",
   "execution_count": 32,
   "id": "handy-muslim",
   "metadata": {},
   "outputs": [],
   "source": [
    "raster_max = np.max(raster_arr)\n",
    "raster_min = np.min(raster_arr)"
   ]
  },
  {
   "cell_type": "code",
   "execution_count": 33,
   "id": "academic-object",
   "metadata": {},
   "outputs": [],
   "source": [
    "def f(x):\n",
    "    return ((x - raster_min)/(raster_max-raster_min))*65535\n",
    "\n",
    "def rescale_array(x):\n",
    "    return np.array(list(map(f, x)))"
   ]
  },
  {
   "cell_type": "code",
   "execution_count": 34,
   "id": "anonymous-methodology",
   "metadata": {},
   "outputs": [],
   "source": [
    "raster_arr_rescale = rescale_array(raster_arr).astype(np.uint16)"
   ]
  },
  {
   "cell_type": "code",
   "execution_count": 35,
   "id": "numerous-communist",
   "metadata": {},
   "outputs": [
    {
     "data": {
      "text/plain": [
       "dtype('uint16')"
      ]
     },
     "execution_count": 35,
     "metadata": {},
     "output_type": "execute_result"
    }
   ],
   "source": [
    "raster_arr_rescale.dtype"
   ]
  },
  {
   "cell_type": "code",
   "execution_count": 36,
   "id": "liquid-study",
   "metadata": {},
   "outputs": [
    {
     "data": {
      "text/plain": [
       "array([    0,  8197,  8221, ..., 65488, 65511, 65535], dtype=uint16)"
      ]
     },
     "execution_count": 36,
     "metadata": {},
     "output_type": "execute_result"
    }
   ],
   "source": [
    "np.unique(raster_arr_rescale)"
   ]
  },
  {
   "cell_type": "code",
   "execution_count": 37,
   "id": "entire-mistress",
   "metadata": {},
   "outputs": [],
   "source": [
    "# Save raster layer function\n",
    "def save_raster_layer(arr, epsg_utm_code, src_fp, out_fp):\n",
    "    \"\"\"\n",
    "    Saves the input numpy array with the dimensions of the specified source raster (usually the DTM)\n",
    "    :param arr: Numpy array that is going to be saved as raster\n",
    "    :param epsg_utm: EPSG utm code in decided for the flood event in the form of 'EPSG:XXXX'\n",
    "    :param src_fp: Source raster used to obtain consistent extent dimensions.\n",
    "    :param out_fp: Output path where raster will be saved\n",
    "    \"\"\"\n",
    "    src = rio.open(src_fp)\n",
    "    src_arr = src.read(1)\n",
    "    crs = CRS.from_epsg(epsg_utm_code)\n",
    "    new_raster = rio.open(\n",
    "        out_fp,\n",
    "        'w',\n",
    "        driver='GTiff',\n",
    "        height=arr.shape[0],\n",
    "        width=arr.shape[1],\n",
    "        count=1,\n",
    "        dtype=src_arr.dtype,\n",
    "        crs=crs,\n",
    "        transform=src.transform,\n",
    "    )\n",
    "    new_raster.write(arr, 1)\n",
    "    new_raster.close()\n",
    "    print('New raster feature was saved.')"
   ]
  },
  {
   "cell_type": "code",
   "execution_count": 38,
   "id": "personalized-kazakhstan",
   "metadata": {},
   "outputs": [
    {
     "data": {
      "text/plain": [
       "Affine(26.062392963066877, 0.0, 230611.05711433815,\n",
       "       0.0, -26.062392963066877, 4078876.5775026665)"
      ]
     },
     "execution_count": 38,
     "metadata": {},
     "output_type": "execute_result"
    }
   ],
   "source": [
    "raster_src.transform"
   ]
  },
  {
   "cell_type": "code",
   "execution_count": 39,
   "id": "tropical-drive",
   "metadata": {},
   "outputs": [
    {
     "data": {
      "text/plain": [
       "dtype('uint16')"
      ]
     },
     "execution_count": 39,
     "metadata": {},
     "output_type": "execute_result"
    }
   ],
   "source": [
    "raster_arr_rescale.dtype"
   ]
  },
  {
   "cell_type": "code",
   "execution_count": 40,
   "id": "hungry-attachment",
   "metadata": {},
   "outputs": [
    {
     "name": "stdout",
     "output_type": "stream",
     "text": [
      "New raster feature was saved.\n"
     ]
    }
   ],
   "source": [
    "save_raster_layer(raster_arr_rescale, utm_epsg_code, output_merge_clip_utm_fp, final_output_raster_fp)"
   ]
  },
  {
   "cell_type": "markdown",
   "id": "numerical-dispatch",
   "metadata": {},
   "source": [
    "# Create Mask For Inside & Outside Polygon AOI as png file"
   ]
  },
  {
   "cell_type": "code",
   "execution_count": 41,
   "id": "outside-withdrawal",
   "metadata": {},
   "outputs": [],
   "source": [
    "import PIL\n",
    "from PIL import Image, ImageOps\n",
    "PIL.Image.MAX_IMAGE_PIXELS = 933120000"
   ]
  },
  {
   "cell_type": "code",
   "execution_count": 42,
   "id": "separate-orlando",
   "metadata": {},
   "outputs": [],
   "source": [
    "img = Image.open(final_output_raster_fp)"
   ]
  },
  {
   "cell_type": "code",
   "execution_count": 43,
   "id": "recent-formula",
   "metadata": {},
   "outputs": [
    {
     "data": {
      "text/plain": [
       "'/home/rllop/PERSONAL/gran_canyon_project/gran_canyon_Copernicus_DSM_10_MERGE_CLIP_UTM_3742_RESCALE.tif'"
      ]
     },
     "execution_count": 43,
     "metadata": {},
     "output_type": "execute_result"
    }
   ],
   "source": [
    "final_output_raster_fp"
   ]
  },
  {
   "cell_type": "code",
   "execution_count": 44,
   "id": "sonic-portable",
   "metadata": {},
   "outputs": [
    {
     "data": {
      "text/plain": [
       "(8171, 4716)"
      ]
     },
     "execution_count": 44,
     "metadata": {},
     "output_type": "execute_result"
    }
   ],
   "source": [
    "img.size"
   ]
  },
  {
   "cell_type": "code",
   "execution_count": 45,
   "id": "possible-jesus",
   "metadata": {},
   "outputs": [],
   "source": [
    "# img.show()"
   ]
  },
  {
   "cell_type": "code",
   "execution_count": 46,
   "id": "preceding-alarm",
   "metadata": {},
   "outputs": [],
   "source": [
    "rgba = img.convert('RGBA')\n",
    "data = rgba.getdata()"
   ]
  },
  {
   "cell_type": "code",
   "execution_count": 47,
   "id": "exterior-keyboard",
   "metadata": {},
   "outputs": [
    {
     "data": {
      "text/plain": [
       "<ImagingCore at 0x7f1273927770>"
      ]
     },
     "execution_count": 47,
     "metadata": {},
     "output_type": "execute_result"
    }
   ],
   "source": [
    "data"
   ]
  },
  {
   "cell_type": "code",
   "execution_count": 48,
   "id": "wanted-introduction",
   "metadata": {},
   "outputs": [],
   "source": [
    "# RGBA - black (0, 0, 0)\n",
    "newData = []\n",
    "for item in data:\n",
    "    if item[0] == 0 and item[1] == 0 and item[2] == 0:\n",
    "        newData.append((0, 0, 0, 0))\n",
    "    elif item[0] != 0 and item[1] != 0 and item[2] != 0:\n",
    "        newData.append((255, 255, 255, 255))\n",
    "    else:\n",
    "        newData.append(item)"
   ]
  },
  {
   "cell_type": "code",
   "execution_count": 49,
   "id": "strong-jungle",
   "metadata": {},
   "outputs": [],
   "source": [
    "rgba.putdata(newData)\n",
    "rgba.save(inside_aoi_png_output_fp, 'PNG')"
   ]
  },
  {
   "cell_type": "code",
   "execution_count": 50,
   "id": "confirmed-slope",
   "metadata": {},
   "outputs": [],
   "source": [
    "# RGBA - black (0, 0, 0)\n",
    "newData = []\n",
    "for item in data:\n",
    "    if item[0] == 0 and item[1] == 0 and item[2] == 0:\n",
    "        newData.append((255, 255,255, 255))\n",
    "    elif item[0] != 0 and item[1] != 0 and item[2] != 0:\n",
    "        newData.append((0, 0, 0, 0))\n",
    "    else:\n",
    "        newData.append(item)"
   ]
  },
  {
   "cell_type": "code",
   "execution_count": 51,
   "id": "applicable-snowboard",
   "metadata": {},
   "outputs": [],
   "source": [
    "rgba.putdata(newData)\n",
    "rgba.save(outside_aoi_png_output_fp, 'PNG')"
   ]
  },
  {
   "cell_type": "markdown",
   "id": "different-enforcement",
   "metadata": {},
   "source": [
    "# Rasterize Other Vector Layers to Final Raster Extent in PNG format"
   ]
  },
  {
   "cell_type": "code",
   "execution_count": 140,
   "id": "narrative-empty",
   "metadata": {},
   "outputs": [],
   "source": [
    "import geopandas as gpd\n",
    "import matplotlib.pyplot as plt"
   ]
  },
  {
   "cell_type": "code",
   "execution_count": 141,
   "id": "proprietary-chemistry",
   "metadata": {},
   "outputs": [],
   "source": [
    "vector_layer_fp = \"/home/rllop/PERSONAL/huesca_project/huesca_rivers_buffered.gpkg\""
   ]
  },
  {
   "cell_type": "code",
   "execution_count": 142,
   "id": "arranged-honey",
   "metadata": {},
   "outputs": [],
   "source": [
    "vector_layer = gpd.read_file(vector_layer_fp)"
   ]
  },
  {
   "cell_type": "code",
   "execution_count": 143,
   "id": "employed-cosmetic",
   "metadata": {},
   "outputs": [
    {
     "ename": "KeyboardInterrupt",
     "evalue": "",
     "output_type": "error",
     "traceback": [
      "\u001b[0;31m---------------------------------------------------------------------------\u001b[0m",
      "\u001b[0;31mKeyboardInterrupt\u001b[0m                         Traceback (most recent call last)",
      "\u001b[0;32m<ipython-input-143-a9a6f409f2e8>\u001b[0m in \u001b[0;36m<module>\u001b[0;34m\u001b[0m\n\u001b[0;32m----> 1\u001b[0;31m \u001b[0mvector_layer\u001b[0m\u001b[0;34m.\u001b[0m\u001b[0mhead\u001b[0m\u001b[0;34m(\u001b[0m\u001b[0;34m)\u001b[0m\u001b[0;34m\u001b[0m\u001b[0;34m\u001b[0m\u001b[0m\n\u001b[0m",
      "\u001b[0;32m~/.local/lib/python3.8/site-packages/IPython/core/displayhook.py\u001b[0m in \u001b[0;36m__call__\u001b[0;34m(self, result)\u001b[0m\n\u001b[1;32m    260\u001b[0m             \u001b[0mself\u001b[0m\u001b[0;34m.\u001b[0m\u001b[0mstart_displayhook\u001b[0m\u001b[0;34m(\u001b[0m\u001b[0;34m)\u001b[0m\u001b[0;34m\u001b[0m\u001b[0;34m\u001b[0m\u001b[0m\n\u001b[1;32m    261\u001b[0m             \u001b[0mself\u001b[0m\u001b[0;34m.\u001b[0m\u001b[0mwrite_output_prompt\u001b[0m\u001b[0;34m(\u001b[0m\u001b[0;34m)\u001b[0m\u001b[0;34m\u001b[0m\u001b[0;34m\u001b[0m\u001b[0m\n\u001b[0;32m--> 262\u001b[0;31m             \u001b[0mformat_dict\u001b[0m\u001b[0;34m,\u001b[0m \u001b[0mmd_dict\u001b[0m \u001b[0;34m=\u001b[0m \u001b[0mself\u001b[0m\u001b[0;34m.\u001b[0m\u001b[0mcompute_format_data\u001b[0m\u001b[0;34m(\u001b[0m\u001b[0mresult\u001b[0m\u001b[0;34m)\u001b[0m\u001b[0;34m\u001b[0m\u001b[0;34m\u001b[0m\u001b[0m\n\u001b[0m\u001b[1;32m    263\u001b[0m             \u001b[0mself\u001b[0m\u001b[0;34m.\u001b[0m\u001b[0mupdate_user_ns\u001b[0m\u001b[0;34m(\u001b[0m\u001b[0mresult\u001b[0m\u001b[0;34m)\u001b[0m\u001b[0;34m\u001b[0m\u001b[0;34m\u001b[0m\u001b[0m\n\u001b[1;32m    264\u001b[0m             \u001b[0mself\u001b[0m\u001b[0;34m.\u001b[0m\u001b[0mfill_exec_result\u001b[0m\u001b[0;34m(\u001b[0m\u001b[0mresult\u001b[0m\u001b[0;34m)\u001b[0m\u001b[0;34m\u001b[0m\u001b[0;34m\u001b[0m\u001b[0m\n",
      "\u001b[0;32m~/.local/lib/python3.8/site-packages/IPython/core/displayhook.py\u001b[0m in \u001b[0;36mcompute_format_data\u001b[0;34m(self, result)\u001b[0m\n\u001b[1;32m    149\u001b[0m \u001b[0;34m\u001b[0m\u001b[0m\n\u001b[1;32m    150\u001b[0m         \"\"\"\n\u001b[0;32m--> 151\u001b[0;31m         \u001b[0;32mreturn\u001b[0m \u001b[0mself\u001b[0m\u001b[0;34m.\u001b[0m\u001b[0mshell\u001b[0m\u001b[0;34m.\u001b[0m\u001b[0mdisplay_formatter\u001b[0m\u001b[0;34m.\u001b[0m\u001b[0mformat\u001b[0m\u001b[0;34m(\u001b[0m\u001b[0mresult\u001b[0m\u001b[0;34m)\u001b[0m\u001b[0;34m\u001b[0m\u001b[0;34m\u001b[0m\u001b[0m\n\u001b[0m\u001b[1;32m    152\u001b[0m \u001b[0;34m\u001b[0m\u001b[0m\n\u001b[1;32m    153\u001b[0m     \u001b[0;31m# This can be set to True by the write_output_prompt method in a subclass\u001b[0m\u001b[0;34m\u001b[0m\u001b[0;34m\u001b[0m\u001b[0;34m\u001b[0m\u001b[0m\n",
      "\u001b[0;32m~/.local/lib/python3.8/site-packages/IPython/core/formatters.py\u001b[0m in \u001b[0;36mformat\u001b[0;34m(self, obj, include, exclude)\u001b[0m\n\u001b[1;32m    178\u001b[0m             \u001b[0mmd\u001b[0m \u001b[0;34m=\u001b[0m \u001b[0;32mNone\u001b[0m\u001b[0;34m\u001b[0m\u001b[0;34m\u001b[0m\u001b[0m\n\u001b[1;32m    179\u001b[0m             \u001b[0;32mtry\u001b[0m\u001b[0;34m:\u001b[0m\u001b[0;34m\u001b[0m\u001b[0;34m\u001b[0m\u001b[0m\n\u001b[0;32m--> 180\u001b[0;31m                 \u001b[0mdata\u001b[0m \u001b[0;34m=\u001b[0m \u001b[0mformatter\u001b[0m\u001b[0;34m(\u001b[0m\u001b[0mobj\u001b[0m\u001b[0;34m)\u001b[0m\u001b[0;34m\u001b[0m\u001b[0;34m\u001b[0m\u001b[0m\n\u001b[0m\u001b[1;32m    181\u001b[0m             \u001b[0;32mexcept\u001b[0m\u001b[0;34m:\u001b[0m\u001b[0;34m\u001b[0m\u001b[0;34m\u001b[0m\u001b[0m\n\u001b[1;32m    182\u001b[0m                 \u001b[0;31m# FIXME: log the exception\u001b[0m\u001b[0;34m\u001b[0m\u001b[0;34m\u001b[0m\u001b[0;34m\u001b[0m\u001b[0m\n",
      "\u001b[0;32m<decorator-gen-2>\u001b[0m in \u001b[0;36m__call__\u001b[0;34m(self, obj)\u001b[0m\n",
      "\u001b[0;32m~/.local/lib/python3.8/site-packages/IPython/core/formatters.py\u001b[0m in \u001b[0;36mcatch_format_error\u001b[0;34m(method, self, *args, **kwargs)\u001b[0m\n\u001b[1;32m    222\u001b[0m     \u001b[0;34m\"\"\"show traceback on failed format call\"\"\"\u001b[0m\u001b[0;34m\u001b[0m\u001b[0;34m\u001b[0m\u001b[0m\n\u001b[1;32m    223\u001b[0m     \u001b[0;32mtry\u001b[0m\u001b[0;34m:\u001b[0m\u001b[0;34m\u001b[0m\u001b[0;34m\u001b[0m\u001b[0m\n\u001b[0;32m--> 224\u001b[0;31m         \u001b[0mr\u001b[0m \u001b[0;34m=\u001b[0m \u001b[0mmethod\u001b[0m\u001b[0;34m(\u001b[0m\u001b[0mself\u001b[0m\u001b[0;34m,\u001b[0m \u001b[0;34m*\u001b[0m\u001b[0margs\u001b[0m\u001b[0;34m,\u001b[0m \u001b[0;34m**\u001b[0m\u001b[0mkwargs\u001b[0m\u001b[0;34m)\u001b[0m\u001b[0;34m\u001b[0m\u001b[0;34m\u001b[0m\u001b[0m\n\u001b[0m\u001b[1;32m    225\u001b[0m     \u001b[0;32mexcept\u001b[0m \u001b[0mNotImplementedError\u001b[0m\u001b[0;34m:\u001b[0m\u001b[0;34m\u001b[0m\u001b[0;34m\u001b[0m\u001b[0m\n\u001b[1;32m    226\u001b[0m         \u001b[0;31m# don't warn on NotImplementedErrors\u001b[0m\u001b[0;34m\u001b[0m\u001b[0;34m\u001b[0m\u001b[0;34m\u001b[0m\u001b[0m\n",
      "\u001b[0;32m~/.local/lib/python3.8/site-packages/IPython/core/formatters.py\u001b[0m in \u001b[0;36m__call__\u001b[0;34m(self, obj)\u001b[0m\n\u001b[1;32m    343\u001b[0m             \u001b[0mmethod\u001b[0m \u001b[0;34m=\u001b[0m \u001b[0mget_real_method\u001b[0m\u001b[0;34m(\u001b[0m\u001b[0mobj\u001b[0m\u001b[0;34m,\u001b[0m \u001b[0mself\u001b[0m\u001b[0;34m.\u001b[0m\u001b[0mprint_method\u001b[0m\u001b[0;34m)\u001b[0m\u001b[0;34m\u001b[0m\u001b[0;34m\u001b[0m\u001b[0m\n\u001b[1;32m    344\u001b[0m             \u001b[0;32mif\u001b[0m \u001b[0mmethod\u001b[0m \u001b[0;32mis\u001b[0m \u001b[0;32mnot\u001b[0m \u001b[0;32mNone\u001b[0m\u001b[0;34m:\u001b[0m\u001b[0;34m\u001b[0m\u001b[0;34m\u001b[0m\u001b[0m\n\u001b[0;32m--> 345\u001b[0;31m                 \u001b[0;32mreturn\u001b[0m \u001b[0mmethod\u001b[0m\u001b[0;34m(\u001b[0m\u001b[0;34m)\u001b[0m\u001b[0;34m\u001b[0m\u001b[0;34m\u001b[0m\u001b[0m\n\u001b[0m\u001b[1;32m    346\u001b[0m             \u001b[0;32mreturn\u001b[0m \u001b[0;32mNone\u001b[0m\u001b[0;34m\u001b[0m\u001b[0;34m\u001b[0m\u001b[0m\n\u001b[1;32m    347\u001b[0m         \u001b[0;32melse\u001b[0m\u001b[0;34m:\u001b[0m\u001b[0;34m\u001b[0m\u001b[0;34m\u001b[0m\u001b[0m\n",
      "\u001b[0;32m~/.local/lib/python3.8/site-packages/pandas/core/frame.py\u001b[0m in \u001b[0;36m_repr_html_\u001b[0;34m(self)\u001b[0m\n\u001b[1;32m    853\u001b[0m                 \u001b[0mdecimal\u001b[0m\u001b[0;34m=\u001b[0m\u001b[0;34m\".\"\u001b[0m\u001b[0;34m,\u001b[0m\u001b[0;34m\u001b[0m\u001b[0;34m\u001b[0m\u001b[0m\n\u001b[1;32m    854\u001b[0m             )\n\u001b[0;32m--> 855\u001b[0;31m             \u001b[0;32mreturn\u001b[0m \u001b[0mfmt\u001b[0m\u001b[0;34m.\u001b[0m\u001b[0mDataFrameRenderer\u001b[0m\u001b[0;34m(\u001b[0m\u001b[0mformatter\u001b[0m\u001b[0;34m)\u001b[0m\u001b[0;34m.\u001b[0m\u001b[0mto_html\u001b[0m\u001b[0;34m(\u001b[0m\u001b[0mnotebook\u001b[0m\u001b[0;34m=\u001b[0m\u001b[0;32mTrue\u001b[0m\u001b[0;34m)\u001b[0m\u001b[0;34m\u001b[0m\u001b[0;34m\u001b[0m\u001b[0m\n\u001b[0m\u001b[1;32m    856\u001b[0m         \u001b[0;32melse\u001b[0m\u001b[0;34m:\u001b[0m\u001b[0;34m\u001b[0m\u001b[0;34m\u001b[0m\u001b[0m\n\u001b[1;32m    857\u001b[0m             \u001b[0;32mreturn\u001b[0m \u001b[0;32mNone\u001b[0m\u001b[0;34m\u001b[0m\u001b[0;34m\u001b[0m\u001b[0m\n",
      "\u001b[0;32m~/.local/lib/python3.8/site-packages/pandas/io/formats/format.py\u001b[0m in \u001b[0;36mto_html\u001b[0;34m(self, buf, encoding, classes, notebook, border, table_id, render_links)\u001b[0m\n\u001b[1;32m   1005\u001b[0m             \u001b[0mrender_links\u001b[0m\u001b[0;34m=\u001b[0m\u001b[0mrender_links\u001b[0m\u001b[0;34m,\u001b[0m\u001b[0;34m\u001b[0m\u001b[0;34m\u001b[0m\u001b[0m\n\u001b[1;32m   1006\u001b[0m         )\n\u001b[0;32m-> 1007\u001b[0;31m         \u001b[0mstring\u001b[0m \u001b[0;34m=\u001b[0m \u001b[0mhtml_formatter\u001b[0m\u001b[0;34m.\u001b[0m\u001b[0mto_string\u001b[0m\u001b[0;34m(\u001b[0m\u001b[0;34m)\u001b[0m\u001b[0;34m\u001b[0m\u001b[0;34m\u001b[0m\u001b[0m\n\u001b[0m\u001b[1;32m   1008\u001b[0m         \u001b[0;32mreturn\u001b[0m \u001b[0msave_to_buffer\u001b[0m\u001b[0;34m(\u001b[0m\u001b[0mstring\u001b[0m\u001b[0;34m,\u001b[0m \u001b[0mbuf\u001b[0m\u001b[0;34m=\u001b[0m\u001b[0mbuf\u001b[0m\u001b[0;34m,\u001b[0m \u001b[0mencoding\u001b[0m\u001b[0;34m=\u001b[0m\u001b[0mencoding\u001b[0m\u001b[0;34m)\u001b[0m\u001b[0;34m\u001b[0m\u001b[0;34m\u001b[0m\u001b[0m\n\u001b[1;32m   1009\u001b[0m \u001b[0;34m\u001b[0m\u001b[0m\n",
      "\u001b[0;32m~/.local/lib/python3.8/site-packages/pandas/io/formats/html.py\u001b[0m in \u001b[0;36mto_string\u001b[0;34m(self)\u001b[0m\n\u001b[1;32m     58\u001b[0m \u001b[0;34m\u001b[0m\u001b[0m\n\u001b[1;32m     59\u001b[0m     \u001b[0;32mdef\u001b[0m \u001b[0mto_string\u001b[0m\u001b[0;34m(\u001b[0m\u001b[0mself\u001b[0m\u001b[0;34m)\u001b[0m \u001b[0;34m->\u001b[0m \u001b[0mstr\u001b[0m\u001b[0;34m:\u001b[0m\u001b[0;34m\u001b[0m\u001b[0;34m\u001b[0m\u001b[0m\n\u001b[0;32m---> 60\u001b[0;31m         \u001b[0mlines\u001b[0m \u001b[0;34m=\u001b[0m \u001b[0mself\u001b[0m\u001b[0;34m.\u001b[0m\u001b[0mrender\u001b[0m\u001b[0;34m(\u001b[0m\u001b[0;34m)\u001b[0m\u001b[0;34m\u001b[0m\u001b[0;34m\u001b[0m\u001b[0m\n\u001b[0m\u001b[1;32m     61\u001b[0m         \u001b[0;32mif\u001b[0m \u001b[0many\u001b[0m\u001b[0;34m(\u001b[0m\u001b[0misinstance\u001b[0m\u001b[0;34m(\u001b[0m\u001b[0mx\u001b[0m\u001b[0;34m,\u001b[0m \u001b[0mstr\u001b[0m\u001b[0;34m)\u001b[0m \u001b[0;32mfor\u001b[0m \u001b[0mx\u001b[0m \u001b[0;32min\u001b[0m \u001b[0mlines\u001b[0m\u001b[0;34m)\u001b[0m\u001b[0;34m:\u001b[0m\u001b[0;34m\u001b[0m\u001b[0;34m\u001b[0m\u001b[0m\n\u001b[1;32m     62\u001b[0m             \u001b[0mlines\u001b[0m \u001b[0;34m=\u001b[0m \u001b[0;34m[\u001b[0m\u001b[0mstr\u001b[0m\u001b[0;34m(\u001b[0m\u001b[0mx\u001b[0m\u001b[0;34m)\u001b[0m \u001b[0;32mfor\u001b[0m \u001b[0mx\u001b[0m \u001b[0;32min\u001b[0m \u001b[0mlines\u001b[0m\u001b[0;34m]\u001b[0m\u001b[0;34m\u001b[0m\u001b[0;34m\u001b[0m\u001b[0m\n",
      "\u001b[0;32m~/.local/lib/python3.8/site-packages/pandas/io/formats/html.py\u001b[0m in \u001b[0;36mrender\u001b[0;34m(self)\u001b[0m\n\u001b[1;32m    606\u001b[0m         \u001b[0mself\u001b[0m\u001b[0;34m.\u001b[0m\u001b[0mwrite\u001b[0m\u001b[0;34m(\u001b[0m\u001b[0;34m\"<div>\"\u001b[0m\u001b[0;34m)\u001b[0m\u001b[0;34m\u001b[0m\u001b[0;34m\u001b[0m\u001b[0m\n\u001b[1;32m    607\u001b[0m         \u001b[0mself\u001b[0m\u001b[0;34m.\u001b[0m\u001b[0mwrite_style\u001b[0m\u001b[0;34m(\u001b[0m\u001b[0;34m)\u001b[0m\u001b[0;34m\u001b[0m\u001b[0;34m\u001b[0m\u001b[0m\n\u001b[0;32m--> 608\u001b[0;31m         \u001b[0msuper\u001b[0m\u001b[0;34m(\u001b[0m\u001b[0;34m)\u001b[0m\u001b[0;34m.\u001b[0m\u001b[0mrender\u001b[0m\u001b[0;34m(\u001b[0m\u001b[0;34m)\u001b[0m\u001b[0;34m\u001b[0m\u001b[0;34m\u001b[0m\u001b[0m\n\u001b[0m\u001b[1;32m    609\u001b[0m         \u001b[0mself\u001b[0m\u001b[0;34m.\u001b[0m\u001b[0mwrite\u001b[0m\u001b[0;34m(\u001b[0m\u001b[0;34m\"</div>\"\u001b[0m\u001b[0;34m)\u001b[0m\u001b[0;34m\u001b[0m\u001b[0;34m\u001b[0m\u001b[0m\n\u001b[1;32m    610\u001b[0m         \u001b[0;32mreturn\u001b[0m \u001b[0mself\u001b[0m\u001b[0;34m.\u001b[0m\u001b[0melements\u001b[0m\u001b[0;34m\u001b[0m\u001b[0;34m\u001b[0m\u001b[0m\n",
      "\u001b[0;32m~/.local/lib/python3.8/site-packages/pandas/io/formats/html.py\u001b[0m in \u001b[0;36mrender\u001b[0;34m(self)\u001b[0m\n\u001b[1;32m     64\u001b[0m \u001b[0;34m\u001b[0m\u001b[0m\n\u001b[1;32m     65\u001b[0m     \u001b[0;32mdef\u001b[0m \u001b[0mrender\u001b[0m\u001b[0;34m(\u001b[0m\u001b[0mself\u001b[0m\u001b[0;34m)\u001b[0m \u001b[0;34m->\u001b[0m \u001b[0mList\u001b[0m\u001b[0;34m[\u001b[0m\u001b[0mstr\u001b[0m\u001b[0;34m]\u001b[0m\u001b[0;34m:\u001b[0m\u001b[0;34m\u001b[0m\u001b[0;34m\u001b[0m\u001b[0m\n\u001b[0;32m---> 66\u001b[0;31m         \u001b[0mself\u001b[0m\u001b[0;34m.\u001b[0m\u001b[0m_write_table\u001b[0m\u001b[0;34m(\u001b[0m\u001b[0;34m)\u001b[0m\u001b[0;34m\u001b[0m\u001b[0;34m\u001b[0m\u001b[0m\n\u001b[0m\u001b[1;32m     67\u001b[0m \u001b[0;34m\u001b[0m\u001b[0m\n\u001b[1;32m     68\u001b[0m         \u001b[0;32mif\u001b[0m \u001b[0mself\u001b[0m\u001b[0;34m.\u001b[0m\u001b[0mshould_show_dimensions\u001b[0m\u001b[0;34m:\u001b[0m\u001b[0;34m\u001b[0m\u001b[0;34m\u001b[0m\u001b[0m\n",
      "\u001b[0;32m~/.local/lib/python3.8/site-packages/pandas/io/formats/html.py\u001b[0m in \u001b[0;36m_write_table\u001b[0;34m(self, indent)\u001b[0m\n\u001b[1;32m    234\u001b[0m             \u001b[0mself\u001b[0m\u001b[0;34m.\u001b[0m\u001b[0m_write_header\u001b[0m\u001b[0;34m(\u001b[0m\u001b[0mindent\u001b[0m \u001b[0;34m+\u001b[0m \u001b[0mself\u001b[0m\u001b[0;34m.\u001b[0m\u001b[0mindent_delta\u001b[0m\u001b[0;34m)\u001b[0m\u001b[0;34m\u001b[0m\u001b[0;34m\u001b[0m\u001b[0m\n\u001b[1;32m    235\u001b[0m \u001b[0;34m\u001b[0m\u001b[0m\n\u001b[0;32m--> 236\u001b[0;31m         \u001b[0mself\u001b[0m\u001b[0;34m.\u001b[0m\u001b[0m_write_body\u001b[0m\u001b[0;34m(\u001b[0m\u001b[0mindent\u001b[0m \u001b[0;34m+\u001b[0m \u001b[0mself\u001b[0m\u001b[0;34m.\u001b[0m\u001b[0mindent_delta\u001b[0m\u001b[0;34m)\u001b[0m\u001b[0;34m\u001b[0m\u001b[0;34m\u001b[0m\u001b[0m\n\u001b[0m\u001b[1;32m    237\u001b[0m \u001b[0;34m\u001b[0m\u001b[0m\n\u001b[1;32m    238\u001b[0m         \u001b[0mself\u001b[0m\u001b[0;34m.\u001b[0m\u001b[0mwrite\u001b[0m\u001b[0;34m(\u001b[0m\u001b[0;34m\"</table>\"\u001b[0m\u001b[0;34m,\u001b[0m \u001b[0mindent\u001b[0m\u001b[0;34m)\u001b[0m\u001b[0;34m\u001b[0m\u001b[0;34m\u001b[0m\u001b[0m\n",
      "\u001b[0;32m~/.local/lib/python3.8/site-packages/pandas/io/formats/html.py\u001b[0m in \u001b[0;36m_write_body\u001b[0;34m(self, indent)\u001b[0m\n\u001b[1;32m    380\u001b[0m     \u001b[0;32mdef\u001b[0m \u001b[0m_write_body\u001b[0m\u001b[0;34m(\u001b[0m\u001b[0mself\u001b[0m\u001b[0;34m,\u001b[0m \u001b[0mindent\u001b[0m\u001b[0;34m:\u001b[0m \u001b[0mint\u001b[0m\u001b[0;34m)\u001b[0m \u001b[0;34m->\u001b[0m \u001b[0;32mNone\u001b[0m\u001b[0;34m:\u001b[0m\u001b[0;34m\u001b[0m\u001b[0;34m\u001b[0m\u001b[0m\n\u001b[1;32m    381\u001b[0m         \u001b[0mself\u001b[0m\u001b[0;34m.\u001b[0m\u001b[0mwrite\u001b[0m\u001b[0;34m(\u001b[0m\u001b[0;34m\"<tbody>\"\u001b[0m\u001b[0;34m,\u001b[0m \u001b[0mindent\u001b[0m\u001b[0;34m)\u001b[0m\u001b[0;34m\u001b[0m\u001b[0;34m\u001b[0m\u001b[0m\n\u001b[0;32m--> 382\u001b[0;31m         \u001b[0mfmt_values\u001b[0m \u001b[0;34m=\u001b[0m \u001b[0mself\u001b[0m\u001b[0;34m.\u001b[0m\u001b[0m_get_formatted_values\u001b[0m\u001b[0;34m(\u001b[0m\u001b[0;34m)\u001b[0m\u001b[0;34m\u001b[0m\u001b[0;34m\u001b[0m\u001b[0m\n\u001b[0m\u001b[1;32m    383\u001b[0m \u001b[0;34m\u001b[0m\u001b[0m\n\u001b[1;32m    384\u001b[0m         \u001b[0;31m# write values\u001b[0m\u001b[0;34m\u001b[0m\u001b[0;34m\u001b[0m\u001b[0;34m\u001b[0m\u001b[0m\n",
      "\u001b[0;32m~/.local/lib/python3.8/site-packages/pandas/io/formats/html.py\u001b[0m in \u001b[0;36m_get_formatted_values\u001b[0;34m(self)\u001b[0m\n\u001b[1;32m    570\u001b[0m \u001b[0;34m\u001b[0m\u001b[0m\n\u001b[1;32m    571\u001b[0m     \u001b[0;32mdef\u001b[0m \u001b[0m_get_formatted_values\u001b[0m\u001b[0;34m(\u001b[0m\u001b[0mself\u001b[0m\u001b[0;34m)\u001b[0m \u001b[0;34m->\u001b[0m \u001b[0mDict\u001b[0m\u001b[0;34m[\u001b[0m\u001b[0mint\u001b[0m\u001b[0;34m,\u001b[0m \u001b[0mList\u001b[0m\u001b[0;34m[\u001b[0m\u001b[0mstr\u001b[0m\u001b[0;34m]\u001b[0m\u001b[0;34m]\u001b[0m\u001b[0;34m:\u001b[0m\u001b[0;34m\u001b[0m\u001b[0;34m\u001b[0m\u001b[0m\n\u001b[0;32m--> 572\u001b[0;31m         \u001b[0;32mreturn\u001b[0m \u001b[0;34m{\u001b[0m\u001b[0mi\u001b[0m\u001b[0;34m:\u001b[0m \u001b[0mself\u001b[0m\u001b[0;34m.\u001b[0m\u001b[0mfmt\u001b[0m\u001b[0;34m.\u001b[0m\u001b[0mformat_col\u001b[0m\u001b[0;34m(\u001b[0m\u001b[0mi\u001b[0m\u001b[0;34m)\u001b[0m \u001b[0;32mfor\u001b[0m \u001b[0mi\u001b[0m \u001b[0;32min\u001b[0m \u001b[0mrange\u001b[0m\u001b[0;34m(\u001b[0m\u001b[0mself\u001b[0m\u001b[0;34m.\u001b[0m\u001b[0mncols\u001b[0m\u001b[0;34m)\u001b[0m\u001b[0;34m}\u001b[0m\u001b[0;34m\u001b[0m\u001b[0;34m\u001b[0m\u001b[0m\n\u001b[0m\u001b[1;32m    573\u001b[0m \u001b[0;34m\u001b[0m\u001b[0m\n\u001b[1;32m    574\u001b[0m     \u001b[0;32mdef\u001b[0m \u001b[0m_get_columns_formatted_values\u001b[0m\u001b[0;34m(\u001b[0m\u001b[0mself\u001b[0m\u001b[0;34m)\u001b[0m \u001b[0;34m->\u001b[0m \u001b[0mList\u001b[0m\u001b[0;34m[\u001b[0m\u001b[0mstr\u001b[0m\u001b[0;34m]\u001b[0m\u001b[0;34m:\u001b[0m\u001b[0;34m\u001b[0m\u001b[0;34m\u001b[0m\u001b[0m\n",
      "\u001b[0;32m~/.local/lib/python3.8/site-packages/pandas/io/formats/html.py\u001b[0m in \u001b[0;36m<dictcomp>\u001b[0;34m(.0)\u001b[0m\n\u001b[1;32m    570\u001b[0m \u001b[0;34m\u001b[0m\u001b[0m\n\u001b[1;32m    571\u001b[0m     \u001b[0;32mdef\u001b[0m \u001b[0m_get_formatted_values\u001b[0m\u001b[0;34m(\u001b[0m\u001b[0mself\u001b[0m\u001b[0;34m)\u001b[0m \u001b[0;34m->\u001b[0m \u001b[0mDict\u001b[0m\u001b[0;34m[\u001b[0m\u001b[0mint\u001b[0m\u001b[0;34m,\u001b[0m \u001b[0mList\u001b[0m\u001b[0;34m[\u001b[0m\u001b[0mstr\u001b[0m\u001b[0;34m]\u001b[0m\u001b[0;34m]\u001b[0m\u001b[0;34m:\u001b[0m\u001b[0;34m\u001b[0m\u001b[0;34m\u001b[0m\u001b[0m\n\u001b[0;32m--> 572\u001b[0;31m         \u001b[0;32mreturn\u001b[0m \u001b[0;34m{\u001b[0m\u001b[0mi\u001b[0m\u001b[0;34m:\u001b[0m \u001b[0mself\u001b[0m\u001b[0;34m.\u001b[0m\u001b[0mfmt\u001b[0m\u001b[0;34m.\u001b[0m\u001b[0mformat_col\u001b[0m\u001b[0;34m(\u001b[0m\u001b[0mi\u001b[0m\u001b[0;34m)\u001b[0m \u001b[0;32mfor\u001b[0m \u001b[0mi\u001b[0m \u001b[0;32min\u001b[0m \u001b[0mrange\u001b[0m\u001b[0;34m(\u001b[0m\u001b[0mself\u001b[0m\u001b[0;34m.\u001b[0m\u001b[0mncols\u001b[0m\u001b[0;34m)\u001b[0m\u001b[0;34m}\u001b[0m\u001b[0;34m\u001b[0m\u001b[0;34m\u001b[0m\u001b[0m\n\u001b[0m\u001b[1;32m    573\u001b[0m \u001b[0;34m\u001b[0m\u001b[0m\n\u001b[1;32m    574\u001b[0m     \u001b[0;32mdef\u001b[0m \u001b[0m_get_columns_formatted_values\u001b[0m\u001b[0;34m(\u001b[0m\u001b[0mself\u001b[0m\u001b[0;34m)\u001b[0m \u001b[0;34m->\u001b[0m \u001b[0mList\u001b[0m\u001b[0;34m[\u001b[0m\u001b[0mstr\u001b[0m\u001b[0;34m]\u001b[0m\u001b[0;34m:\u001b[0m\u001b[0;34m\u001b[0m\u001b[0;34m\u001b[0m\u001b[0m\n",
      "\u001b[0;32m~/.local/lib/python3.8/site-packages/pandas/io/formats/format.py\u001b[0m in \u001b[0;36mformat_col\u001b[0;34m(self, i)\u001b[0m\n\u001b[1;32m    797\u001b[0m         \u001b[0mframe\u001b[0m \u001b[0;34m=\u001b[0m \u001b[0mself\u001b[0m\u001b[0;34m.\u001b[0m\u001b[0mtr_frame\u001b[0m\u001b[0;34m\u001b[0m\u001b[0;34m\u001b[0m\u001b[0m\n\u001b[1;32m    798\u001b[0m         \u001b[0mformatter\u001b[0m \u001b[0;34m=\u001b[0m \u001b[0mself\u001b[0m\u001b[0;34m.\u001b[0m\u001b[0m_get_formatter\u001b[0m\u001b[0;34m(\u001b[0m\u001b[0mi\u001b[0m\u001b[0;34m)\u001b[0m\u001b[0;34m\u001b[0m\u001b[0;34m\u001b[0m\u001b[0m\n\u001b[0;32m--> 799\u001b[0;31m         return format_array(\n\u001b[0m\u001b[1;32m    800\u001b[0m             \u001b[0mframe\u001b[0m\u001b[0;34m.\u001b[0m\u001b[0miloc\u001b[0m\u001b[0;34m[\u001b[0m\u001b[0;34m:\u001b[0m\u001b[0;34m,\u001b[0m \u001b[0mi\u001b[0m\u001b[0;34m]\u001b[0m\u001b[0;34m.\u001b[0m\u001b[0m_values\u001b[0m\u001b[0;34m,\u001b[0m\u001b[0;34m\u001b[0m\u001b[0;34m\u001b[0m\u001b[0m\n\u001b[1;32m    801\u001b[0m             \u001b[0mformatter\u001b[0m\u001b[0;34m,\u001b[0m\u001b[0;34m\u001b[0m\u001b[0;34m\u001b[0m\u001b[0m\n",
      "\u001b[0;32m~/.local/lib/python3.8/site-packages/pandas/io/formats/format.py\u001b[0m in \u001b[0;36mformat_array\u001b[0;34m(values, formatter, float_format, na_rep, digits, space, justify, decimal, leading_space, quoting)\u001b[0m\n\u001b[1;32m   1216\u001b[0m     )\n\u001b[1;32m   1217\u001b[0m \u001b[0;34m\u001b[0m\u001b[0m\n\u001b[0;32m-> 1218\u001b[0;31m     \u001b[0;32mreturn\u001b[0m \u001b[0mfmt_obj\u001b[0m\u001b[0;34m.\u001b[0m\u001b[0mget_result\u001b[0m\u001b[0;34m(\u001b[0m\u001b[0;34m)\u001b[0m\u001b[0;34m\u001b[0m\u001b[0;34m\u001b[0m\u001b[0m\n\u001b[0m\u001b[1;32m   1219\u001b[0m \u001b[0;34m\u001b[0m\u001b[0m\n\u001b[1;32m   1220\u001b[0m \u001b[0;34m\u001b[0m\u001b[0m\n",
      "\u001b[0;32m~/.local/lib/python3.8/site-packages/pandas/io/formats/format.py\u001b[0m in \u001b[0;36mget_result\u001b[0;34m(self)\u001b[0m\n\u001b[1;32m   1247\u001b[0m \u001b[0;34m\u001b[0m\u001b[0m\n\u001b[1;32m   1248\u001b[0m     \u001b[0;32mdef\u001b[0m \u001b[0mget_result\u001b[0m\u001b[0;34m(\u001b[0m\u001b[0mself\u001b[0m\u001b[0;34m)\u001b[0m \u001b[0;34m->\u001b[0m \u001b[0mList\u001b[0m\u001b[0;34m[\u001b[0m\u001b[0mstr\u001b[0m\u001b[0;34m]\u001b[0m\u001b[0;34m:\u001b[0m\u001b[0;34m\u001b[0m\u001b[0;34m\u001b[0m\u001b[0m\n\u001b[0;32m-> 1249\u001b[0;31m         \u001b[0mfmt_values\u001b[0m \u001b[0;34m=\u001b[0m \u001b[0mself\u001b[0m\u001b[0;34m.\u001b[0m\u001b[0m_format_strings\u001b[0m\u001b[0;34m(\u001b[0m\u001b[0;34m)\u001b[0m\u001b[0;34m\u001b[0m\u001b[0;34m\u001b[0m\u001b[0m\n\u001b[0m\u001b[1;32m   1250\u001b[0m         \u001b[0;32mreturn\u001b[0m \u001b[0m_make_fixed_width\u001b[0m\u001b[0;34m(\u001b[0m\u001b[0mfmt_values\u001b[0m\u001b[0;34m,\u001b[0m \u001b[0mself\u001b[0m\u001b[0;34m.\u001b[0m\u001b[0mjustify\u001b[0m\u001b[0;34m)\u001b[0m\u001b[0;34m\u001b[0m\u001b[0;34m\u001b[0m\u001b[0m\n\u001b[1;32m   1251\u001b[0m \u001b[0;34m\u001b[0m\u001b[0m\n",
      "\u001b[0;32m~/.local/lib/python3.8/site-packages/pandas/io/formats/format.py\u001b[0m in \u001b[0;36m_format_strings\u001b[0;34m(self)\u001b[0m\n\u001b[1;32m   1546\u001b[0m             \u001b[0marray\u001b[0m \u001b[0;34m=\u001b[0m \u001b[0mnp\u001b[0m\u001b[0;34m.\u001b[0m\u001b[0masarray\u001b[0m\u001b[0;34m(\u001b[0m\u001b[0mvalues\u001b[0m\u001b[0;34m)\u001b[0m\u001b[0;34m\u001b[0m\u001b[0;34m\u001b[0m\u001b[0m\n\u001b[1;32m   1547\u001b[0m \u001b[0;34m\u001b[0m\u001b[0m\n\u001b[0;32m-> 1548\u001b[0;31m         fmt_values = format_array(\n\u001b[0m\u001b[1;32m   1549\u001b[0m             \u001b[0marray\u001b[0m\u001b[0;34m,\u001b[0m\u001b[0;34m\u001b[0m\u001b[0;34m\u001b[0m\u001b[0m\n\u001b[1;32m   1550\u001b[0m             \u001b[0mformatter\u001b[0m\u001b[0;34m,\u001b[0m\u001b[0;34m\u001b[0m\u001b[0;34m\u001b[0m\u001b[0m\n",
      "\u001b[0;32m~/.local/lib/python3.8/site-packages/pandas/io/formats/format.py\u001b[0m in \u001b[0;36mformat_array\u001b[0;34m(values, formatter, float_format, na_rep, digits, space, justify, decimal, leading_space, quoting)\u001b[0m\n\u001b[1;32m   1216\u001b[0m     )\n\u001b[1;32m   1217\u001b[0m \u001b[0;34m\u001b[0m\u001b[0m\n\u001b[0;32m-> 1218\u001b[0;31m     \u001b[0;32mreturn\u001b[0m \u001b[0mfmt_obj\u001b[0m\u001b[0;34m.\u001b[0m\u001b[0mget_result\u001b[0m\u001b[0;34m(\u001b[0m\u001b[0;34m)\u001b[0m\u001b[0;34m\u001b[0m\u001b[0;34m\u001b[0m\u001b[0m\n\u001b[0m\u001b[1;32m   1219\u001b[0m \u001b[0;34m\u001b[0m\u001b[0m\n\u001b[1;32m   1220\u001b[0m \u001b[0;34m\u001b[0m\u001b[0m\n",
      "\u001b[0;32m~/.local/lib/python3.8/site-packages/pandas/io/formats/format.py\u001b[0m in \u001b[0;36mget_result\u001b[0;34m(self)\u001b[0m\n\u001b[1;32m   1247\u001b[0m \u001b[0;34m\u001b[0m\u001b[0m\n\u001b[1;32m   1248\u001b[0m     \u001b[0;32mdef\u001b[0m \u001b[0mget_result\u001b[0m\u001b[0;34m(\u001b[0m\u001b[0mself\u001b[0m\u001b[0;34m)\u001b[0m \u001b[0;34m->\u001b[0m \u001b[0mList\u001b[0m\u001b[0;34m[\u001b[0m\u001b[0mstr\u001b[0m\u001b[0;34m]\u001b[0m\u001b[0;34m:\u001b[0m\u001b[0;34m\u001b[0m\u001b[0;34m\u001b[0m\u001b[0m\n\u001b[0;32m-> 1249\u001b[0;31m         \u001b[0mfmt_values\u001b[0m \u001b[0;34m=\u001b[0m \u001b[0mself\u001b[0m\u001b[0;34m.\u001b[0m\u001b[0m_format_strings\u001b[0m\u001b[0;34m(\u001b[0m\u001b[0;34m)\u001b[0m\u001b[0;34m\u001b[0m\u001b[0;34m\u001b[0m\u001b[0m\n\u001b[0m\u001b[1;32m   1250\u001b[0m         \u001b[0;32mreturn\u001b[0m \u001b[0m_make_fixed_width\u001b[0m\u001b[0;34m(\u001b[0m\u001b[0mfmt_values\u001b[0m\u001b[0;34m,\u001b[0m \u001b[0mself\u001b[0m\u001b[0;34m.\u001b[0m\u001b[0mjustify\u001b[0m\u001b[0;34m)\u001b[0m\u001b[0;34m\u001b[0m\u001b[0;34m\u001b[0m\u001b[0m\n\u001b[1;32m   1251\u001b[0m \u001b[0;34m\u001b[0m\u001b[0m\n",
      "\u001b[0;32m~/.local/lib/python3.8/site-packages/pandas/io/formats/format.py\u001b[0m in \u001b[0;36m_format_strings\u001b[0;34m(self)\u001b[0m\n\u001b[1;32m   1304\u001b[0m         \u001b[0;32mfor\u001b[0m \u001b[0mi\u001b[0m\u001b[0;34m,\u001b[0m \u001b[0mv\u001b[0m \u001b[0;32min\u001b[0m \u001b[0menumerate\u001b[0m\u001b[0;34m(\u001b[0m\u001b[0mvals\u001b[0m\u001b[0;34m)\u001b[0m\u001b[0;34m:\u001b[0m\u001b[0;34m\u001b[0m\u001b[0;34m\u001b[0m\u001b[0m\n\u001b[1;32m   1305\u001b[0m             \u001b[0;32mif\u001b[0m \u001b[0;32mnot\u001b[0m \u001b[0mis_float_type\u001b[0m\u001b[0;34m[\u001b[0m\u001b[0mi\u001b[0m\u001b[0;34m]\u001b[0m \u001b[0;32mand\u001b[0m \u001b[0mleading_space\u001b[0m\u001b[0;34m:\u001b[0m\u001b[0;34m\u001b[0m\u001b[0;34m\u001b[0m\u001b[0m\n\u001b[0;32m-> 1306\u001b[0;31m                 \u001b[0mfmt_values\u001b[0m\u001b[0;34m.\u001b[0m\u001b[0mappend\u001b[0m\u001b[0;34m(\u001b[0m\u001b[0;34mf\" {_format(v)}\"\u001b[0m\u001b[0;34m)\u001b[0m\u001b[0;34m\u001b[0m\u001b[0;34m\u001b[0m\u001b[0m\n\u001b[0m\u001b[1;32m   1307\u001b[0m             \u001b[0;32melif\u001b[0m \u001b[0mis_float_type\u001b[0m\u001b[0;34m[\u001b[0m\u001b[0mi\u001b[0m\u001b[0;34m]\u001b[0m\u001b[0;34m:\u001b[0m\u001b[0;34m\u001b[0m\u001b[0;34m\u001b[0m\u001b[0m\n\u001b[1;32m   1308\u001b[0m                 \u001b[0mfmt_values\u001b[0m\u001b[0;34m.\u001b[0m\u001b[0mappend\u001b[0m\u001b[0;34m(\u001b[0m\u001b[0m_trim_zeros_single_float\u001b[0m\u001b[0;34m(\u001b[0m\u001b[0mfloat_format\u001b[0m\u001b[0;34m(\u001b[0m\u001b[0mv\u001b[0m\u001b[0;34m)\u001b[0m\u001b[0;34m)\u001b[0m\u001b[0;34m)\u001b[0m\u001b[0;34m\u001b[0m\u001b[0;34m\u001b[0m\u001b[0m\n",
      "\u001b[0;32m~/.local/lib/python3.8/site-packages/pandas/io/formats/format.py\u001b[0m in \u001b[0;36m_format\u001b[0;34m(x)\u001b[0m\n\u001b[1;32m   1288\u001b[0m             \u001b[0;32melse\u001b[0m\u001b[0;34m:\u001b[0m\u001b[0;34m\u001b[0m\u001b[0;34m\u001b[0m\u001b[0m\n\u001b[1;32m   1289\u001b[0m                 \u001b[0;31m# object dtype\u001b[0m\u001b[0;34m\u001b[0m\u001b[0;34m\u001b[0m\u001b[0;34m\u001b[0m\u001b[0m\n\u001b[0;32m-> 1290\u001b[0;31m                 \u001b[0;32mreturn\u001b[0m \u001b[0mstr\u001b[0m\u001b[0;34m(\u001b[0m\u001b[0mformatter\u001b[0m\u001b[0;34m(\u001b[0m\u001b[0mx\u001b[0m\u001b[0;34m)\u001b[0m\u001b[0;34m)\u001b[0m\u001b[0;34m\u001b[0m\u001b[0;34m\u001b[0m\u001b[0m\n\u001b[0m\u001b[1;32m   1291\u001b[0m \u001b[0;34m\u001b[0m\u001b[0m\n\u001b[1;32m   1292\u001b[0m         \u001b[0mvals\u001b[0m \u001b[0;34m=\u001b[0m \u001b[0mextract_array\u001b[0m\u001b[0;34m(\u001b[0m\u001b[0mself\u001b[0m\u001b[0;34m.\u001b[0m\u001b[0mvalues\u001b[0m\u001b[0;34m,\u001b[0m \u001b[0mextract_numpy\u001b[0m\u001b[0;34m=\u001b[0m\u001b[0;32mTrue\u001b[0m\u001b[0;34m)\u001b[0m\u001b[0;34m\u001b[0m\u001b[0;34m\u001b[0m\u001b[0m\n",
      "\u001b[0;32m~/anaconda3/envs/testing/lib/python3.8/site-packages/geopandas/array.py\u001b[0m in \u001b[0;36m<lambda>\u001b[0;34m(geom)\u001b[0m\n\u001b[1;32m   1304\u001b[0m                         \u001b[0;31m# (in case of unit meter: mm precision)\u001b[0m\u001b[0;34m\u001b[0m\u001b[0;34m\u001b[0m\u001b[0;34m\u001b[0m\u001b[0m\n\u001b[1;32m   1305\u001b[0m                         \u001b[0mprecision\u001b[0m \u001b[0;34m=\u001b[0m \u001b[0;36m3\u001b[0m\u001b[0;34m\u001b[0m\u001b[0;34m\u001b[0m\u001b[0m\n\u001b[0;32m-> 1306\u001b[0;31m             \u001b[0;32mreturn\u001b[0m \u001b[0;32mlambda\u001b[0m \u001b[0mgeom\u001b[0m\u001b[0;34m:\u001b[0m \u001b[0mshapely\u001b[0m\u001b[0;34m.\u001b[0m\u001b[0mwkt\u001b[0m\u001b[0;34m.\u001b[0m\u001b[0mdumps\u001b[0m\u001b[0;34m(\u001b[0m\u001b[0mgeom\u001b[0m\u001b[0;34m,\u001b[0m \u001b[0mrounding_precision\u001b[0m\u001b[0;34m=\u001b[0m\u001b[0mprecision\u001b[0m\u001b[0;34m)\u001b[0m\u001b[0;34m\u001b[0m\u001b[0;34m\u001b[0m\u001b[0m\n\u001b[0m\u001b[1;32m   1307\u001b[0m         \u001b[0;32mreturn\u001b[0m \u001b[0mrepr\u001b[0m\u001b[0;34m\u001b[0m\u001b[0;34m\u001b[0m\u001b[0m\n\u001b[1;32m   1308\u001b[0m \u001b[0;34m\u001b[0m\u001b[0m\n",
      "\u001b[0;32m~/anaconda3/envs/testing/lib/python3.8/site-packages/shapely/wkt.py\u001b[0m in \u001b[0;36mdumps\u001b[0;34m(ob, trim, **kw)\u001b[0m\n\u001b[1;32m     60\u001b[0m     \u001b[0minput\u001b[0m \u001b[0mgeometry\u001b[0m \u001b[0;32mas\u001b[0m \u001b[0mWKT\u001b[0m \u001b[0mstring\u001b[0m\u001b[0;34m\u001b[0m\u001b[0;34m\u001b[0m\u001b[0m\n\u001b[1;32m     61\u001b[0m     \"\"\"\n\u001b[0;32m---> 62\u001b[0;31m     \u001b[0;32mreturn\u001b[0m \u001b[0mgeos\u001b[0m\u001b[0;34m.\u001b[0m\u001b[0mWKTWriter\u001b[0m\u001b[0;34m(\u001b[0m\u001b[0mgeos\u001b[0m\u001b[0;34m.\u001b[0m\u001b[0mlgeos\u001b[0m\u001b[0;34m,\u001b[0m \u001b[0mtrim\u001b[0m\u001b[0;34m=\u001b[0m\u001b[0mtrim\u001b[0m\u001b[0;34m,\u001b[0m \u001b[0;34m**\u001b[0m\u001b[0mkw\u001b[0m\u001b[0;34m)\u001b[0m\u001b[0;34m.\u001b[0m\u001b[0mwrite\u001b[0m\u001b[0;34m(\u001b[0m\u001b[0mob\u001b[0m\u001b[0;34m)\u001b[0m\u001b[0;34m\u001b[0m\u001b[0;34m\u001b[0m\u001b[0m\n\u001b[0m\u001b[1;32m     63\u001b[0m \u001b[0;34m\u001b[0m\u001b[0m\n\u001b[1;32m     64\u001b[0m \u001b[0;34m\u001b[0m\u001b[0m\n",
      "\u001b[0;32m~/anaconda3/envs/testing/lib/python3.8/site-packages/shapely/geos.py\u001b[0m in \u001b[0;36mwrite\u001b[0;34m(self, geom)\u001b[0m\n\u001b[1;32m    397\u001b[0m         \u001b[0;32mif\u001b[0m \u001b[0mgeom\u001b[0m \u001b[0;32mis\u001b[0m \u001b[0;32mNone\u001b[0m \u001b[0;32mor\u001b[0m \u001b[0mgeom\u001b[0m\u001b[0;34m.\u001b[0m\u001b[0m_geom\u001b[0m \u001b[0;32mis\u001b[0m \u001b[0;32mNone\u001b[0m\u001b[0;34m:\u001b[0m\u001b[0;34m\u001b[0m\u001b[0;34m\u001b[0m\u001b[0m\n\u001b[1;32m    398\u001b[0m             \u001b[0;32mraise\u001b[0m \u001b[0mValueError\u001b[0m\u001b[0;34m(\u001b[0m\u001b[0;34m\"Null geometry supports no operations\"\u001b[0m\u001b[0;34m)\u001b[0m\u001b[0;34m\u001b[0m\u001b[0;34m\u001b[0m\u001b[0m\n\u001b[0;32m--> 399\u001b[0;31m         \u001b[0mresult\u001b[0m \u001b[0;34m=\u001b[0m \u001b[0mself\u001b[0m\u001b[0;34m.\u001b[0m\u001b[0m_lgeos\u001b[0m\u001b[0;34m.\u001b[0m\u001b[0mGEOSWKTWriter_write\u001b[0m\u001b[0;34m(\u001b[0m\u001b[0mself\u001b[0m\u001b[0;34m.\u001b[0m\u001b[0m_writer\u001b[0m\u001b[0;34m,\u001b[0m \u001b[0mgeom\u001b[0m\u001b[0;34m.\u001b[0m\u001b[0m_geom\u001b[0m\u001b[0;34m)\u001b[0m\u001b[0;34m\u001b[0m\u001b[0;34m\u001b[0m\u001b[0m\n\u001b[0m\u001b[1;32m    400\u001b[0m         \u001b[0mtext\u001b[0m \u001b[0;34m=\u001b[0m \u001b[0mstring_at\u001b[0m\u001b[0;34m(\u001b[0m\u001b[0mresult\u001b[0m\u001b[0;34m)\u001b[0m\u001b[0;34m\u001b[0m\u001b[0;34m\u001b[0m\u001b[0m\n\u001b[1;32m    401\u001b[0m         \u001b[0mlgeos\u001b[0m\u001b[0;34m.\u001b[0m\u001b[0mGEOSFree\u001b[0m\u001b[0;34m(\u001b[0m\u001b[0mresult\u001b[0m\u001b[0;34m)\u001b[0m\u001b[0;34m\u001b[0m\u001b[0;34m\u001b[0m\u001b[0m\n",
      "\u001b[0;31mKeyboardInterrupt\u001b[0m: "
     ]
    }
   ],
   "source": [
    "vector_layer.head()"
   ]
  },
  {
   "cell_type": "code",
   "execution_count": null,
   "id": "disabled-state",
   "metadata": {},
   "outputs": [],
   "source": [
    "vector_layer.plot()"
   ]
  },
  {
   "cell_type": "code",
   "execution_count": null,
   "id": "identical-stone",
   "metadata": {},
   "outputs": [],
   "source": [
    "import matplotlib.pyplot as plt"
   ]
  },
  {
   "cell_type": "code",
   "execution_count": null,
   "id": "processed-relevance",
   "metadata": {},
   "outputs": [],
   "source": [
    "plt.figure(figsize=(550.3, 671.9))\n",
    "vector_layer.plot().get_figure().savefig('output.png')"
   ]
  },
  {
   "cell_type": "code",
   "execution_count": null,
   "id": "third-ghost",
   "metadata": {},
   "outputs": [],
   "source": []
  },
  {
   "cell_type": "code",
   "execution_count": null,
   "id": "associate-meaning",
   "metadata": {},
   "outputs": [],
   "source": []
  },
  {
   "cell_type": "code",
   "execution_count": null,
   "id": "english-rebel",
   "metadata": {},
   "outputs": [],
   "source": [
    "import matplotlib.pyplot as plt\n",
    "w = 5503\n",
    "h = 6719\n",
    "fig = plt.figure(frameon=False)\n",
    "fig.set_size_inches(w,h)"
   ]
  },
  {
   "cell_type": "code",
   "execution_count": null,
   "id": "placed-textbook",
   "metadata": {},
   "outputs": [],
   "source": []
  },
  {
   "cell_type": "code",
   "execution_count": null,
   "id": "wrong-chair",
   "metadata": {},
   "outputs": [],
   "source": []
  },
  {
   "cell_type": "code",
   "execution_count": null,
   "id": "tracked-hammer",
   "metadata": {},
   "outputs": [],
   "source": [
    "rivers['geometry'] = rivers.buffer(20)"
   ]
  },
  {
   "cell_type": "code",
   "execution_count": null,
   "id": "realistic-hardwood",
   "metadata": {},
   "outputs": [],
   "source": [
    "rivers = rivers.to_crs(2062)"
   ]
  },
  {
   "cell_type": "code",
   "execution_count": null,
   "id": "electronic-convergence",
   "metadata": {},
   "outputs": [],
   "source": [
    "rivers.to_file(polygon_fp, dirver='GPKG')"
   ]
  },
  {
   "cell_type": "code",
   "execution_count": null,
   "id": "induced-devon",
   "metadata": {},
   "outputs": [],
   "source": [
    "src = rio.open(output_raster_fp)"
   ]
  },
  {
   "cell_type": "code",
   "execution_count": null,
   "id": "applied-afternoon",
   "metadata": {},
   "outputs": [],
   "source": [
    "src.bounds"
   ]
  },
  {
   "cell_type": "code",
   "execution_count": null,
   "id": "unsigned-italian",
   "metadata": {},
   "outputs": [],
   "source": [
    "xmin = src.bounds.left\n",
    "ymin = src.bounds.bottom\n",
    "xmax = src.bounds.right\n",
    "ymax = src.bounds.top"
   ]
  },
  {
   "cell_type": "code",
   "execution_count": null,
   "id": "artistic-roulette",
   "metadata": {},
   "outputs": [],
   "source": [
    "cmd = f\"gdal_rasterize -burn 1 -te {xmin} {ymin} {xmax} {ymax} -l river_huesca_clipped {polygon_fp} {polygon_raster_fp}\""
   ]
  },
  {
   "cell_type": "code",
   "execution_count": null,
   "id": "current-victoria",
   "metadata": {},
   "outputs": [],
   "source": [
    "os.system(cmd)"
   ]
  }
 ],
 "metadata": {
  "kernelspec": {
   "display_name": "Python 3",
   "language": "python",
   "name": "python3"
  },
  "language_info": {
   "codemirror_mode": {
    "name": "ipython",
    "version": 3
   },
   "file_extension": ".py",
   "mimetype": "text/x-python",
   "name": "python",
   "nbconvert_exporter": "python",
   "pygments_lexer": "ipython3",
   "version": "3.8.12"
  }
 },
 "nbformat": 4,
 "nbformat_minor": 5
}
